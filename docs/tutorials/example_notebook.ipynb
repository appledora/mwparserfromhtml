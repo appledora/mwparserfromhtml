{
 "cells": [
  {
   "cell_type": "markdown",
   "metadata": {},
   "source": [
    "In this notebook, we will present a simple walkthrough of the different features currently available in the library. \n",
    "Before we begin - \n",
    "* If you're interested to know more about the premise of the project -> [see this blogpost](https://appledora.hashnode.dev/outreach-bw3 )\n",
    "* If you're interested to have a more concrete idea about the internal structure of the dump files -> [see this notebook](example_data.ipynb)"
   ]
  },
  {
   "cell_type": "markdown",
   "metadata": {},
   "source": [
    "### Installing the Package\n",
    "As easy as \n",
    "```bash\n",
    "   $ pip install mwparserfromhtml\n",
    "```"
   ]
  },
  {
   "cell_type": "code",
   "execution_count": 6,
   "metadata": {},
   "outputs": [],
   "source": [
    "## Import the package and load a dump file\n",
    "from mwparserfromhtml import HTMLDump\n",
    "html_file_path = \"/home/appledora/Documents/wikimedia/data/simplewiki-NS0-20220601-ENTERPRISE-HTML.json.tar.gz\"\n",
    "html_dump = HTMLDump(html_file_path, max_article=3)"
   ]
  },
  {
   "cell_type": "code",
   "execution_count": 7,
   "metadata": {},
   "outputs": [
    {
     "name": "stdout",
     "output_type": "stream",
     "text": [
      "Amsterdam (city), New York\n",
      "You Kent Always Say What You Want\n",
      "Bangor\n"
     ]
    }
   ],
   "source": [
    "## Iterate over the articles in the dump and print their titles \n",
    "for article in html_dump:\n",
    "    print(article.title)"
   ]
  },
  {
   "cell_type": "code",
   "execution_count": 8,
   "metadata": {},
   "outputs": [
    {
     "name": "stdout",
     "output_type": "stream",
     "text": [
      "Amsterdam is a city in Montgomery County, New York, United States. As of the 2010 census, the city had a population of 18,620.[1] The name is influenced from the city of Amsterdam in the Netherlands.\n",
      "The city of Amsterdam is surrounded on the north, east, and west sides by the town of Amsterdam. The city developed on both sides of the Mohawk River, with the majority located on the north bank. The Port Jackson area on the south side is also part of the city.\n",
      "References\n",
      "\n",
      "↑  \"2016 U.S. Gazetteer Files\". United States Census Bureau. Retrieved Jul 5, 2017.\n",
      "Other websites\n",
      "Official website\n",
      "\n",
      " This short article about a place or feature in the United States can be made longer. You can help Wikipedia by adding to it.\n",
      "\n",
      "================================================================================\n",
      "\n",
      "\"You Kent Always Say What You Want\"The Simpsons episodeEpisode no.Season 18Episode 22Directed byMatthew NastukWritten byTim LongProduction codeJABF15Original air dateMay 20, 2007 (2007-05-20)Guest appearancesLudacris as himselfMaurice LaMarche as Birch BarlowEpisode chronology\n",
      "\n",
      "← Previous\"24 Minutes\"\n",
      "Next →\"He Loves to Fly and He D'ohs\"\n",
      "The Simpsons (season 18)List of episodes\"You Kent Always Say What You Want\" is the 400th episode of The Simpsons. It is the 22nd episode of the 18th season and 400th episode of the entire series. In this episode, Kent Brockman loses his job after he says something naughty on TV and stays with the Simpsons. It aired on May 20, 2007, at the same time as 24 Minutes. It is also the last episode to air before The Simpsons Movie.\n",
      "Plot\n",
      "Homer Simpson gets the one millionth ice cream cone at a local ice cream place and got on Smartline with Kent Brockman. Homer accidentally spills a cup of coffee by Brockman's crotch and he yells \"That hurt like a\" with the last word muffled. Kent Brockman said an extreme expletive and got demoted to weekend weatherman.\n",
      " This short article about television can be made longer. You can help Wikipedia by adding to it.\n",
      "\n",
      "\n",
      "\n",
      "\n",
      "\n",
      "================================================================================\n",
      "Bangor is a city name found in several countries.\n",
      "Australia\n",
      "Bangor, New South Wales\n",
      "Bangor, South Australia\n",
      "Bangor, Tasmania\n",
      "Canada\n",
      "\n",
      "Bangor, Nova Scotia\n",
      "Bangor, Ontario\n",
      "Bangor, Prince Edward Island\n",
      "Bangor (city), Saskatchewan\n",
      "Bangor (town), Saskatchewan\n",
      "\n",
      "Bangor Lodge, Saskatchewan\n",
      "Bangor Road, Prince Edward Island\n",
      "France\n",
      "Bangor, Morbihan\n",
      "United Kingdom\n",
      "\n",
      "Bangor, County Down\n",
      "Bangor, Gwynedd (Wales)\n",
      "\n",
      "Bangor-on-Dee, in Wales; also known as Bangor Is-Coed or Bangor-Is-y-Coed\n",
      "United States\n",
      "\n",
      "Bangor, Alabama\n",
      "Bangor, California\n",
      "Bangor, Maine\n",
      "Bangor, Michigan (see also Bangor Township, Michigan, below)\n",
      "Bangor, New York\n",
      "Bangor, Pennsylvania\n",
      "Bangor, Washington\n",
      "Bangor, Wisconsin (village)\n",
      "Bangor (town), Wisconsin\n",
      "\n",
      "Bangor Township, Iowa\n",
      "Bangor Township, Minnesota\n",
      "Bangor Township, Bay County, Michigan (see also Bangor, Michigan, above)\n",
      "Bangor Township, South Dakota\n",
      "East Bangor, Pennsylvania\n",
      "\n",
      "\n",
      "\n",
      " \n",
      " This disambiguation page lists  articles associated with the title Bangor.  If an internal link led you here, you may wish to change the link to point directly to the intended article. \n",
      "\n",
      "\n",
      "================================================================================\n"
     ]
    }
   ],
   "source": [
    "# Extract the plain text of an article from the dump, i.e. remove anything that is not text (e.g. a link is replaced by its anchor text \n",
    "for article in html_dump:\n",
    "    print(article.get_plaintext( skip_categories=True, skip_transclusion=False, skip_headers=False))\n",
    "    print(\"=\"*80)"
   ]
  },
  {
   "cell_type": "code",
   "execution_count": 23,
   "metadata": {},
   "outputs": [],
   "source": [
    "# Yo can extract Templates, Categories, Wikilinks, External Links, Media, References etc. from the dump\n",
    "# They will return a list of class instances for each component\n",
    "for article in html_dump:\n",
    "    templates = article.get_templates()\n",
    "    categories = article.get_categories()\n",
    "    wlinks = article.get_wikilinks()\n",
    "    exlinks = article.get_externallinks()\n",
    "    medias = article.get_media(skip_images=True, skip_video=False, skip_audio=False)\n",
    "    referneces = article.get_references()\n"
   ]
  },
  {
   "cell_type": "code",
   "execution_count": 16,
   "metadata": {},
   "outputs": [
    {
     "name": "stdout",
     "output_type": "stream",
     "text": [
      "Article Name:  Chang Gum-chol\n"
     ]
    }
   ],
   "source": [
    "# Alternatively, you can read stand-alone html files obtained from the wikipedia dump and convert to an `Article` object to extract the features \n",
    "from mwparserfromhtml import Article\n",
    "import json\n",
    "article_object = json.load(open(\"/home/appledora/Documents/wikimedia/html-dumps/data/article.json\")) \n",
    "article = Article(article_object)\n",
    "print(\"Article Name: \", article.title)\n",
    "templates = article.get_templates()\n",
    "categories = article.get_categories()\n",
    "wikilinks = article.get_wikilinks()"
   ]
  },
  {
   "cell_type": "code",
   "execution_count": 17,
   "metadata": {},
   "outputs": [
    {
     "name": "stdout",
     "output_type": "stream",
     "text": [
      "short description\n",
      "Orphan\n",
      "family name hatnote\n",
      "Infobox football biography\n",
      "\n",
      "Infobox Korean name\n",
      "\n",
      "reflist\n",
      "NFT player\n",
      "NorthKorea-footy-bio-stub\n"
     ]
    }
   ],
   "source": [
    "# print the template title of the article\n",
    "for t in templates:\n",
    "    print(t.title)"
   ]
  },
  {
   "cell_type": "code",
   "execution_count": 18,
   "metadata": {},
   "outputs": [
    {
     "name": "stdout",
     "output_type": "stream",
     "text": [
      "Articles with short description\n",
      "Short description matches Wikidata\n",
      "Orphaned articles from January 2022\n",
      "All orphaned articles\n",
      "Articles needing Korean script or text#Chang%20Gum-chol\n",
      "Wikipedia articles needing romanized Korean#Chang%20Gum-chol\n",
      "NFT template with ID not in Wikidata\n",
      "Date of birth unknown\n",
      "Living people\n",
      "North Korean footballers\n",
      "North Korea international footballers\n",
      "Association football midfielders\n",
      "Year of birth missing (living people)\n",
      "All stub articles\n",
      "North Korean football biography stubs\n"
     ]
    }
   ],
   "source": [
    "# print the categories name of the article \n",
    "for category in categories:\n",
    "    print(category.title)"
   ]
  },
  {
   "cell_type": "code",
   "execution_count": 22,
   "metadata": {},
   "outputs": [
    {
     "name": "stdout",
     "output_type": "stream",
     "text": [
      "{'name': 'Wikilink', 'html_string': <a href=\"./Template_talk:NorthKorea-footy-bio-stub\" rel=\"mw:WikiLink\" title=\"Template talk:NorthKorea-footy-bio-stub\"><abbr title=\"Discuss this template\">t</abbr></a>, 'title': 'Template talk:NorthKorea-footy-bio-stub', 'plaintext': 't', 'tid': None, 'transclusion': False, 'link': './Template_talk:NorthKorea-footy-bio-stub', 'namespace_id': 11, 'disambiguation': False, 'redirect': False, 'redlink': False, 'interwiki': False}\n"
     ]
    }
   ],
   "source": [
    "# print the properties of a sample wikilink object. To know more about the properties, see relevant class files\n",
    "sample_wikilink = wikilinks[-1]\n",
    "print(sample_wikilink.__dict__)"
   ]
  }
 ],
 "metadata": {
  "interpreter": {
   "hash": "ea140f3d76d4a2e3349e3e89d4a1cd386e322fef645a7de78d478dec42374ace"
  },
  "kernelspec": {
   "display_name": "Python 3.8.13 ('reqtest')",
   "language": "python",
   "name": "python3"
  },
  "language_info": {
   "codemirror_mode": {
    "name": "ipython",
    "version": 3
   },
   "file_extension": ".py",
   "mimetype": "text/x-python",
   "name": "python",
   "nbconvert_exporter": "python",
   "pygments_lexer": "ipython3",
   "version": "3.8.13"
  },
  "orig_nbformat": 4
 },
 "nbformat": 4,
 "nbformat_minor": 2
}
